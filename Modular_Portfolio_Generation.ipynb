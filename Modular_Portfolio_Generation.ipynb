{
  "cells": [
    {
      "cell_type": "markdown",
      "metadata": {},
      "source": [
        "# Modular Quantitative Portfolio Generation\n",
        "\n",
        "This notebook demonstrates how to use the modularized portfolio generation system.\n"
      ]
    },
    {
      "cell_type": "markdown",
      "metadata": {},
      "source": [
        "## Setup and Imports\n"
      ]
    },
    {
      "cell_type": "code",
      "execution_count": null,
      "metadata": {},
      "outputs": [],
      "source": [
        "import sys\n",
        "import os\n",
        "import pandas as pd\n",
        "import numpy as np\n",
        "import matplotlib.pyplot as plt\n",
        "\n",
        "# Add src to path for imports\n",
        "sys.path.append(os.path.join(os.getcwd(), 'src'))\n",
        "\n",
        "# Import the main portfolio generator\n",
        "from src.main import PortfolioGenerator\n",
        "\n",
        "# Set up plotting\n",
        "%matplotlib inline\n",
        "plt.style.use('ggplot')\n",
        "plt.rcParams['figure.figsize'] = (14, 8)\n"
      ]
    },
    {
      "cell_type": "markdown",
      "metadata": {},
      "source": [
        "## Initialize Portfolio Generator\n"
      ]
    },
    {
      "cell_type": "code",
      "execution_count": null,
      "metadata": {},
      "outputs": [],
      "source": [
        "# Set the end date for the universe\n",
        "universe_end_date = pd.Timestamp('2016-01-05', tz='UTC')\n",
        "\n",
        "# Initialize the portfolio generator\n",
        "generator = PortfolioGenerator()\n",
        "\n",
        "print(f\"Portfolio generator initialized for end date: {universe_end_date}\")\n"
      ]
    },
    {
      "cell_type": "markdown",
      "metadata": {},
      "source": [
        "## Run Full Pipeline\n"
      ]
    },
    {
      "cell_type": "code",
      "execution_count": null,
      "metadata": {},
      "outputs": [],
      "source": [
        "# Run the complete portfolio generation pipeline\n",
        "results = generator.run_full_pipeline(\n",
        "    universe_end_date=universe_end_date,\n",
        "    optimization_type='regularized',\n",
        "    lambda_reg=5.0,\n",
        "    risk_cap=0.05,\n",
        "    factor_max=10.0,\n",
        "    factor_min=-10.0,\n",
        "    weights_max=0.55,\n",
        "    weights_min=-0.55\n",
        ")\n"
      ]
    }
  ],
  "metadata": {
    "language_info": {
      "name": "python"
    }
  },
  "nbformat": 4,
  "nbformat_minor": 2
}
